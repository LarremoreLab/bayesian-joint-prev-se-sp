{
 "cells": [
  {
   "cell_type": "markdown",
   "metadata": {},
   "source": [
    "# Imports"
   ]
  },
  {
   "cell_type": "markdown",
   "metadata": {},
   "source": [
    "Requirements:\n",
    "- numpy\n",
    "- pystan\n",
    "- scipy\n",
    "- pickle\n",
    "- rpy2\n",
    "- seroprevalence (included .py)\n",
    "- util (included .py)"
   ]
  },
  {
   "cell_type": "code",
   "execution_count": 25,
   "metadata": {},
   "outputs": [],
   "source": [
    "import numpy as np\n",
    "import pystan\n",
    "from scipy.ndimage.filters import gaussian_filter1d\n",
    "from scipy.stats import beta\n",
    "import pickle\n",
    "\n",
    "# Figures\n",
    "import matplotlib.pyplot as plt\n",
    "from util import *\n",
    "\n",
    "ACCENT_COLOR = np.array([202,70,120])/255"
   ]
  },
  {
   "cell_type": "markdown",
   "metadata": {},
   "source": [
    "# Helpers"
   ]
  },
  {
   "cell_type": "code",
   "execution_count": 9,
   "metadata": {},
   "outputs": [],
   "source": [
    "# Plotting helper to take samples and make a smoothed histogram line plot.\n",
    "def process(X,filterwidth=2,bins=100,CI_width=95):\n",
    "    counts, bins = np.histogram(X,bins=bins,density=True,)\n",
    "    midpoints = (bins[:-1]+bins[1:])/2\n",
    "    smooth_counts = gaussian_filter1d(counts, filterwidth)\n",
    "    CI = np.percentile(X,[(100-CI_width)/2,(100-CI_width)/2+CI_width])\n",
    "    return midpoints,smooth_counts,CI\n",
    "def log_fr(r,pos,neg,u,v):\n",
    "    '''\n",
    "    log_fr(r,pos,neg,u,v)\n",
    "        Computes the log of the numerator of the binomial posterior.\n",
    "    \n",
    "    r - seroprevalence [0,1]\n",
    "    pos - number of positive serological results\n",
    "    neg - number of negative serological results\n",
    "    u - false positive rate (1-specificity)\n",
    "    v - false negative rate (1-sensitivity)\n",
    "\n",
    "    for non-log version see fr\n",
    "    '''\n",
    "    t = u+(1-u-v)*r\n",
    "    return pos*np.log(t) + neg*np.log(1-t)\n",
    "\n",
    "def sample_post_r_log(pos,neg,u,v,size=1):\n",
    "    '''\n",
    "    sample_post_r_log(pos,neg,u,v,size=1)\n",
    "        Samples from the posterior distribution of seroprevalence \n",
    "        under a uniform prior, given data and parameters below.\n",
    "        (default 1 sample)\n",
    "        Uses the log of the posterior numerator to avoid underflow issues.\n",
    "        After max_failures of the accept-reject, this code returns -1.\n",
    "        This is due to our lazy proposal distribution: unif[0,1]. We could\n",
    "        do better, but didn't optimize right away. \n",
    "\n",
    "    pos - number of positive serological results\n",
    "    neg - number of negative serological results\n",
    "    u - false positive rate (1-specificity)\n",
    "    v - false negative rate (1-sensitivity)\n",
    "    '''\n",
    "    rm = (pos/(pos+neg)-u)/(1-u-v)\n",
    "    \n",
    "    if (rm>0) and (rm < 1):\n",
    "        log_M = np.array([log_fr(0,pos,neg,u,v),log_fr(1,pos,neg,u,v),\n",
    "            log_fr(rm,pos,neg,u,v)]).max()\n",
    "    else:\n",
    "        log_M = np.array([log_fr(0,pos,neg,u,v),log_fr(1,pos,neg,u,v)]).max()\n",
    "    # uniform accept/reject algorithm\n",
    "    samples = []\n",
    "    n_accepted = 0\n",
    "    max_failures = 1e6\n",
    "    failures = 0\n",
    "    while n_accepted < size:\n",
    "        r_proposal = np.random.rand()\n",
    "        if (np.log(np.random.rand()) < (log_fr(r_proposal,pos,neg,u,v)-log_M)):\n",
    "            samples.append(r_proposal)\n",
    "            n_accepted += 1\n",
    "            failures = 0\n",
    "        else:\n",
    "            failures += 1\n",
    "        if failures == max_failures:\n",
    "            return [-1]\n",
    "    if size==1:\n",
    "        return samples[0]\n",
    "    else:\n",
    "        return np.array(samples)"
   ]
  },
  {
   "cell_type": "code",
   "execution_count": 10,
   "metadata": {},
   "outputs": [
    {
     "name": "stderr",
     "output_type": "stream",
     "text": [
      "INFO:pystan:COMPILING THE C++ CODE FOR MODEL anon_model_477ae0dbdc1d7ea3aabfe66f16f7003e NOW.\n"
     ]
    }
   ],
   "source": [
    "# Compile the Stan model. Takes ~30s to run. \n",
    "sm = pystan.StanModel(file='eq6.stan')"
   ]
  },
  {
   "cell_type": "markdown",
   "metadata": {},
   "source": [
    "# Figure 1"
   ]
  },
  {
   "cell_type": "code",
   "execution_count": 11,
   "metadata": {},
   "outputs": [],
   "source": [
    "# survey\n",
    "pos = 75\n",
    "neg = 425\n",
    "\n",
    "# lab calibration\n",
    "# sense\n",
    "tp = 47\n",
    "fn = 3\n",
    "# spec\n",
    "tn = 49\n",
    "fp = 1"
   ]
  },
  {
   "cell_type": "code",
   "execution_count": 12,
   "metadata": {},
   "outputs": [],
   "source": [
    "dat_1 = {'field_pos':pos, \n",
    "       'field_n':pos+neg,\n",
    "       'true_neg':tn, \n",
    "       'total_neg':tn+fp,\n",
    "       'true_pos':tp,\n",
    "       'total_pos':tp+fn}\n",
    "dat_2 = {'field_pos':pos, \n",
    "       'field_n':pos+neg,\n",
    "       'true_neg':2*tn, \n",
    "       'total_neg':2*tn+2*fp,\n",
    "       'true_pos':2*tp,\n",
    "       'total_pos':2*tp+2*fn}\n",
    "init_1 = [{'p':pos/(pos+neg),\n",
    "         'sens':tp/(tp+fn),\n",
    "         'spec':tn/(tn+fp)}]*4\n",
    "init_2 = [{'p':pos/(pos+neg),\n",
    "         'sens':tp/(tp+fn),\n",
    "         'spec':tn/(tn+fp)}]*4"
   ]
  },
  {
   "cell_type": "code",
   "execution_count": 13,
   "metadata": {},
   "outputs": [
    {
     "name": "stderr",
     "output_type": "stream",
     "text": [
      "WARNING:pystan:3 of 100000 iterations ended with a divergence (0.003 %).\n",
      "WARNING:pystan:Try running with adapt_delta larger than 0.8 to remove the divergences.\n"
     ]
    }
   ],
   "source": [
    "samps = 100000\n",
    "fit_1 = sm.sampling(data=dat_1,\n",
    "                    iter=int(2*samps/4),\n",
    "                    chains=4,\n",
    "                    n_jobs=1,\n",
    "                   init=init_1)\n",
    "fit_2 = sm.sampling(data=dat_2, \n",
    "                    iter=int(2*samps/4),\n",
    "                    chains=4,\n",
    "                    n_jobs=1,\n",
    "                   init=init_2)"
   ]
  },
  {
   "cell_type": "code",
   "execution_count": 18,
   "metadata": {},
   "outputs": [],
   "source": [
    "prev_infty = sample_post_r_log(pos,neg,1-tn/(tn+fp),1-tp/(tp+fn),size=samps)"
   ]
  },
  {
   "cell_type": "code",
   "execution_count": 19,
   "metadata": {},
   "outputs": [],
   "source": [
    "post_1 = fit_1.extract()\n",
    "prev_1 = (post_1['p'])\n",
    "se_1 = (post_1['sens'])\n",
    "sp_1 = (post_1['spec'])\n",
    "x1,y1,CI1 = process(prev_1)\n",
    "_,_,CIse1 = process(se_1)\n",
    "_,_,CIsp1 = process(sp_1)\n",
    "\n",
    "post_2 = fit_2.extract()\n",
    "prev_2 = (post_2['p'])\n",
    "se_2 = (post_2['sens'])\n",
    "sp_2 = (post_2['spec'])\n",
    "x2,y2,CI2 = process(prev_2)\n",
    "_,_,CIse2 = process(se_2)\n",
    "_,_,CIsp2 = process(sp_2)\n",
    "\n",
    "xi,yi,CIi = process(prev_infty)"
   ]
  },
  {
   "cell_type": "code",
   "execution_count": 20,
   "metadata": {},
   "outputs": [
    {
     "name": "stdout",
     "output_type": "stream",
     "text": [
      "CI width prev 100: 0.128\n",
      "CI width prev 200: 0.097\n",
      "CI width prev infty: 0.068\n",
      "reduction: 0.247\n",
      "\n",
      "\n",
      "CI width sens 100: 0.143\n",
      "CI width sens 200: 0.098\n",
      "reduction: 0.317\n",
      "\n",
      "\n",
      "CI width spec 100: 0.097\n",
      "CI width spec 200: 0.064\n",
      "reduction: 0.344\n"
     ]
    }
   ],
   "source": [
    "print('CI width prev 100: {:.3f}'.format(CI1[1]-CI1[0]))\n",
    "print('CI width prev 200: {:.3f}'.format(CI2[1]-CI2[0]))\n",
    "print('CI width prev infty: {:.3f}'.format(CIi[1]-CIi[0]))\n",
    "print('reduction: {:.3f}'.format(1-(CI2[1]-CI2[0])/(CI1[1]-CI1[0])))\n",
    "print('\\n')\n",
    "print('CI width sens 100: {:.3f}'.format(CIse1[1]-CIse1[0]))\n",
    "print('CI width sens 200: {:.3f}'.format(CIse2[1]-CIse2[0]))\n",
    "print('reduction: {:.3f}'.format(1-(CIse2[1]-CIse2[0])/(CIse1[1]-CIse1[0])))\n",
    "print('\\n')\n",
    "print('CI width spec 100: {:.3f}'.format(CIsp1[1]-CIsp1[0]))\n",
    "print('CI width spec 200: {:.3f}'.format(CIsp2[1]-CIsp2[0]))\n",
    "print('reduction: {:.3f}'.format(1-(CIsp2[1]-CIsp2[0])/(CIsp1[1]-CIsp1[0])))"
   ]
  },
  {
   "cell_type": "code",
   "execution_count": 24,
   "metadata": {},
   "outputs": [
    {
     "data": {
      "image/png": "[encoded data removed]",
      "text/plain": [
       "<Figure size 432x216 with 1 Axes>"
      ]
     },
     "metadata": {
      "needs_background": "light"
     },
     "output_type": "display_data"
    }
   ],
   "source": [
    "fig,ax = plt.subplots(nrows=1,ncols=1,figsize=(6,3))\n",
    "ax.plot(x1,y1,'--',\n",
    "        color='dimgrey',\n",
    "       label='100 lab controls\\nCI: [{},{}]'.format(\n",
    "       np.round(CI1[0],3),\n",
    "           np.round(CI1[1],3)))\n",
    "ax.plot(x2,y2,\n",
    "        color='black',\n",
    "       label='200 lab controls\\nCI: [{},{:.3f}]'.format(\n",
    "       np.round(CI2[0],3),\n",
    "           np.round(CI2[1],3)))\n",
    "ax.plot(xi,yi,':',\n",
    "        color='black',\n",
    "       label='$\\infty$ lab controls\\nCI: [{:.3f},{:.3f}]'.format(\n",
    "       np.round(CIi[0],3),\n",
    "           np.round(CIi[1],3)))\n",
    "ax.set_yticks([])\n",
    "ax.set_ylabel('probability density')\n",
    "ax.set_xlabel(r'prevalence, $\\theta$')\n",
    "ax.set_ylim(bottom=0)\n",
    "ax.set_xlim(left=0)\n",
    "ax.legend(fontsize=12,frameon=False)\n",
    "finalize(ax,ignoreLegend=True)\n",
    "fig.tight_layout()\n",
    "plt.savefig('Fig1.pdf')"
   ]
  },
  {
   "cell_type": "markdown",
   "metadata": {},
   "source": [
    "# Figure 2"
   ]
  },
  {
   "cell_type": "markdown",
   "metadata": {},
   "source": [
    "Data for this figure were run in 5 batches of MCMC, each of which saves to a .pkl file. \n",
    "The code below does *not* do any sampling but instead loads in samples already taken. \n",
    "\n",
    "To run sampling code, see `mcmc_survey_1.py`."
   ]
  },
  {
   "cell_type": "code",
   "execution_count": 20,
   "metadata": {},
   "outputs": [
    {
     "data": {
      "image/png": "[encoded data removed]",
      "text/plain": [
       "<Figure size 720x360 with 2 Axes>"
      ]
     },
     "metadata": {
      "needs_background": "light"
     },
     "output_type": "display_data"
    }
   ],
   "source": [
    "fig,ax = plt.subplots(nrows=1,ncols=1,figsize=(10,5))\n",
    "\n",
    "N=1000\n",
    "se = 0.93\n",
    "sp = 0.98\n",
    "dx = 20\n",
    "x = np.arange(dx,600+1,dx)\n",
    "X,Y,W1= pickle.load(open('W2mcmc1.pkl','rb'))\n",
    "X,Y,W2= pickle.load(open('W2mcmc2.pkl','rb'))\n",
    "X,Y,W3= pickle.load(open('W2mcmc3.pkl','rb'))\n",
    "X,Y,W4= pickle.load(open('W2mcmc4.pkl','rb'))\n",
    "X,Y,W5= pickle.load(open('W2mcmc5.pkl','rb'))\n",
    "W = (W1+W2+W3+W4+W5)/5\n",
    "\n",
    "cmap = plt.cm.plasma  # define the colormap\n",
    "# extract all colors from the .jet map\n",
    "cmaplist = [cmap(i) for i in range(cmap.N)]\n",
    "# force the -1 color entry to be white\n",
    "cmaplist[-1] = (1, 1, 1, 1.0)\n",
    "\n",
    "# create the new map\n",
    "cmap = mpl.colors.LinearSegmentedColormap.from_list(\n",
    "    'Custom cmap', cmaplist, cmap.N)\n",
    "# define the bins and normalize\n",
    "bounds = np.arange(0.06, 0.081, 0.001)\n",
    "norm = mpl.colors.BoundaryNorm(bounds, cmap.N)\n",
    "\n",
    "im = ax.imshow(W,origin='lower',cmap=cmap,norm=norm)\n",
    "\n",
    "# finalize(ax,ignoreLegend=True,)\n",
    "ax.tick_params(direction='out')\n",
    "ax.yaxis.label.set_size(14)\n",
    "ax.xaxis.label.set_size(14)\n",
    "ax.tick_params(axis='both', which='major', labelsize=14, pad=7)\n",
    "ticks = np.arange(-1,len(x),5)\n",
    "ax.set_xticks(ticks)\n",
    "ax.set_yticks(ticks)\n",
    "ax.set_yticklabels(x[ticks].astype(int))\n",
    "ax.set_xticklabels(x[ticks].astype(int))\n",
    "ax.set_xlabel('$N_{pos}$ (sensitivity calibration)')\n",
    "ax.set_ylabel('$N_{neg}$ (specificity calibration)')\n",
    "ax.set_xlim([-0.5,29])\n",
    "ax.set_ylim([-0.5,29])\n",
    "cbar = fig.colorbar(im, ax=ax)\n",
    "ax.grid(alpha=0.5)\n",
    "cbar.set_ticks(bounds[::5])\n",
    "tx = cbar.ax.get_yticklabels()\n",
    "tx[-1].set_text(tx[-1].get_text()+'+')\n",
    "cbar.ax.set_yticklabels(tx,fontsize=12)\n",
    "cbar.set_label('90% CI width',fontsize=12)\n",
    "plt.tight_layout()\n",
    "\n",
    "# plt.savefig('Fig2.pdf')"
   ]
  },
  {
   "cell_type": "markdown",
   "metadata": {},
   "source": [
    "# Figure 3"
   ]
  },
  {
   "cell_type": "code",
   "execution_count": 27,
   "metadata": {},
   "outputs": [],
   "source": [
    "# survey\n",
    "pos = 10\n",
    "neg = 990\n",
    "\n",
    "# lab calibration\n",
    "# sense\n",
    "tp = 100\n",
    "fn = 0\n",
    "# spec\n",
    "tn = 95\n",
    "fp = 5"
   ]
  },
  {
   "cell_type": "code",
   "execution_count": 28,
   "metadata": {},
   "outputs": [],
   "source": [
    "dat_fig3 = {'field_pos':pos, \n",
    "       'field_n':pos+neg,\n",
    "       'true_neg':tn, \n",
    "       'total_neg':tn+fp,\n",
    "       'true_pos':tp,\n",
    "       'total_pos':tp+fn}"
   ]
  },
  {
   "cell_type": "code",
   "execution_count": 29,
   "metadata": {},
   "outputs": [
    {
     "name": "stderr",
     "output_type": "stream",
     "text": [
      "WARNING:pystan:4 of 100000 iterations ended with a divergence (0.004 %).\n",
      "WARNING:pystan:Try running with adapt_delta larger than 0.8 to remove the divergences.\n"
     ]
    }
   ],
   "source": [
    "samps = 100000\n",
    "fit_fig3 = sm.sampling(data=dat_fig3, iter=int(2*samps/4),chains=4,n_jobs=1)"
   ]
  },
  {
   "cell_type": "code",
   "execution_count": 30,
   "metadata": {},
   "outputs": [],
   "source": [
    "post_fig3 = fit_fig3.extract()\n",
    "prev_fig3 = (post_fig3['p'])\n",
    "se_fig3 = (post_1['sens'])\n",
    "sp_fig3 = (post_1['spec'])\n",
    "xf3,yf3,CIf3 = process(sp_fig3)"
   ]
  },
  {
   "cell_type": "code",
   "execution_count": 42,
   "metadata": {},
   "outputs": [
    {
     "name": "stdout",
     "output_type": "stream",
     "text": [
      "joint sp posterior mean: 0.9614196045336852\n",
      "joint sp posterior mode: 0.9771307956692903\n"
     ]
    }
   ],
   "source": [
    "post_mean_f3 = np.mean(sp_fig3)\n",
    "post_mode_f3 = xf3[np.argmax(yf3)]\n",
    "print('joint sp posterior mean: {}'.format(post_mean_f3))\n",
    "print('joint sp posterior mode: {}'.format(post_mode_f3))"
   ]
  },
  {
   "cell_type": "code",
   "execution_count": 53,
   "metadata": {},
   "outputs": [
    {
     "data": {
      "text/plain": [
       "0.94118743535028"
      ]
     },
     "execution_count": 53,
     "metadata": {},
     "output_type": "execute_result"
    }
   ],
   "source": [
    "np.sum(xf3*yf3_labonly)/np.sum(yf3_labonly)"
   ]
  },
  {
   "cell_type": "code",
   "execution_count": 55,
   "metadata": {},
   "outputs": [
    {
     "name": "stdout",
     "output_type": "stream",
     "text": [
      "lab-only sp posterior mean: 0.9411764705882353\n",
      "lab-only sp posterior mode: 0.949772639421486\n"
     ]
    }
   ],
   "source": [
    "yf3_labonly = beta.pdf(xf3,tn+1,fp+1)\n",
    "post_mean_f3_labonly = beta.mean(tn+1,fp+1)\n",
    "post_mode_f3_labonly = xf3[np.argmax(yf3_labonly)]\n",
    "print('lab-only sp posterior mean: {}'.format(post_mean_f3_labonly))\n",
    "print('lab-only sp posterior mode: {}'.format(post_mode_f3_labonly))"
   ]
  },
  {
   "cell_type": "code",
   "execution_count": 59,
   "metadata": {},
   "outputs": [
    {
     "data": {
      "image/png": "[encoded data removed]",
      "text/plain": [
       "<Figure size 432x216 with 1 Axes>"
      ]
     },
     "metadata": {
      "needs_background": "light"
     },
     "output_type": "display_data"
    }
   ],
   "source": [
    "fig,ax = plt.subplots(nrows=1,ncols=1,figsize=(6,3))\n",
    "ax.plot(xf3,yf3,\n",
    "        color='black',\n",
    "       label='joint model\\npost. mean: {:.3f}\\npost. mode: {:.3f}'.format(\n",
    "       np.round(post_mean_f3,3),\n",
    "           np.round(post_mode_f3,3)))\n",
    "ax.plot([],[],color='None',label=' ')\n",
    "ax.plot(xf3,beta.pdf(xf3,tn+1,fp+1),\n",
    "        linestyle='--',\n",
    "        color='dimgrey',\n",
    "       label='lab data only model\\npost. mean: {:.3f}\\npost. mode: {:.3f}'.format(\n",
    "       np.round(post_mean_f3_labonly,3),\n",
    "           np.round(post_mode_f3_labonly,3)\n",
    "           ))\n",
    "ax.set_yticks([])\n",
    "ax.set_ylabel('probability density')\n",
    "ax.set_xlabel(r'specificity, sp')\n",
    "ax.set_ylim(bottom=0)\n",
    "ax.set_xlim(right=1)\n",
    "ax.legend(fontsize=12,frameon=False)\n",
    "finalize(ax,ignoreLegend=True)\n",
    "fig.tight_layout()\n",
    "# plt.savefig('Fig3.pdf')"
   ]
  },
  {
   "cell_type": "code",
   "execution_count": null,
   "metadata": {},
   "outputs": [],
   "source": []
  }
 ],
 "metadata": {
  "kernelspec": {
   "display_name": "Python 3",
   "language": "python",
   "name": "python3"
  },
  "language_info": {
   "codemirror_mode": {
    "name": "ipython",
    "version": 3
   },
   "file_extension": ".py",
   "mimetype": "text/x-python",
   "name": "python",
   "nbconvert_exporter": "python",
   "pygments_lexer": "ipython3",
   "version": "3.7.4"
  }
 },
 "nbformat": 4,
 "nbformat_minor": 2
}
